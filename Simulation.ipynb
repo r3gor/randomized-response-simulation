{
 "cells": [
  {
   "cell_type": "markdown",
   "id": "viral-highway",
   "metadata": {},
   "source": [
    "## Read dataset"
   ]
  },
  {
   "cell_type": "code",
   "execution_count": 27,
   "id": "assured-brave",
   "metadata": {},
   "outputs": [
    {
     "name": "stdout",
     "output_type": "stream",
     "text": [
      "DS_SIZE:\t 395\n"
     ]
    }
   ],
   "source": [
    "import pandas as pd\n",
    "ds = pd.read_csv(\"dataset/student-in-relationship.csv\")\n",
    "DS_SIZE = ds.size\n",
    "print(\"DS_SIZE:\\t\", DS_SIZE)\n",
    "# ds.value_counts()\n",
    "real_p_yes = ds.mean()[0]\n",
    "real_p_no = 1 - real_p_yes\n",
    "\n",
    "def real_proportions():\n",
    "    print(\"----Real----\")\n",
    "    print(\"Yes:\\t\", real_p_yes*100, \"%\")\n",
    "    print(\"No:\\t\", real_p_no*100, \"%\")\n"
   ]
  },
  {
   "cell_type": "markdown",
   "id": "planned-defensive",
   "metadata": {},
   "source": [
    "## Random (throw a coin)"
   ]
  },
  {
   "cell_type": "code",
   "execution_count": 28,
   "id": "executive-huntington",
   "metadata": {},
   "outputs": [
    {
     "name": "stdout",
     "output_type": "stream",
     "text": [
      "Estrict:\t 5.0 %\n",
      "Passed :\t 88\n",
      "Fail   :\t 12\n"
     ]
    }
   ],
   "source": [
    "import random\n",
    "import numpy as np\n",
    "\n",
    "def coin_result(): \n",
    "    return random.choice([\"FACE\", \"SEAL\"])\n",
    "\n",
    "def test_coin_result(nexperiments, log=False):\n",
    "    results = pd.DataFrame([coin_result() for i in range(nexperiments)])\n",
    "    FACE = (results==\"FACE\").mean()[0]\n",
    "    SEAL = (results==\"SEAL\").mean()[0]\n",
    "    if log:\n",
    "        print(\"FACE:\\t\", round(FACE*100, 3), \"%\")\n",
    "        print(\"SEAL:\\t\", round(SEAL*100, 3), \"%\")\n",
    "    return (FACE, SEAL)\n",
    "    \n",
    "def run_test_coin(nexperiments, ntests=100, estrict=0.02, log=False):\n",
    "    passed = 0\n",
    "    for i in range(ntests):\n",
    "        result = test_coin_result(nexperiments)\n",
    "        diff = abs(result[0]-result[1])\n",
    "        if log: print(\"DIFF:\\t\", round(diff*100,3), \"%\")\n",
    "        if (diff <= estrict): passed += 1\n",
    "    print(\"Estrict:\\t\", estrict*100, \"%\")\n",
    "    print(\"Passed :\\t\", passed)\n",
    "    print(\"Fail   :\\t\", ntests-passed)\n",
    "\n",
    "run_test_coin(nexperiments=DS_SIZE*2, estrict=0.05)"
   ]
  },
  {
   "cell_type": "markdown",
   "id": "instant-platinum",
   "metadata": {},
   "source": [
    "## Run Survey"
   ]
  },
  {
   "cell_type": "code",
   "execution_count": 29,
   "id": "informative-ecuador",
   "metadata": {},
   "outputs": [
    {
     "name": "stdout",
     "output_type": "stream",
     "text": [
      "Finish survey!\n",
      "---------- results ----------\n",
      "Face:\t 393\n",
      "Seil:\t 395\n",
      "Total:\t 788\n",
      "Yes:\t 525\n",
      "No:\t 263\n"
     ]
    }
   ],
   "source": [
    "class Coin:\n",
    "    def __init__(self):\n",
    "        self.faces = 0\n",
    "        self.seals = 0\n",
    "    \n",
    "class Survey:\n",
    "    def __init__(self):\n",
    "        self.count_yes = 0\n",
    "        self.count_no = 0\n",
    "        self.participants = 0\n",
    "        self._faces = 0\n",
    "        self._seals = 0\n",
    "        \n",
    "    def get_ans(self):\n",
    "        for i in ds[ds.keys()[0]]:\n",
    "            yield i\n",
    "    \n",
    "    def run(self):\n",
    "        for r in self.get_ans():\n",
    "            while(coin_result()==\"FACE\"):\n",
    "                self._faces += 1\n",
    "                self.participants += 1\n",
    "                self.count_yes += 1\n",
    "            self._seals += 1\n",
    "            self.participants += 1\n",
    "            if (r): self.count_yes += 1\n",
    "        self.count_no = self.participants - self.count_yes\n",
    "        print(\"Finish survey!\")\n",
    "    \n",
    "    def print_result(self):\n",
    "        print(\"-\"*10, \"results\", \"-\"*10)\n",
    "        print(\"Face:\\t\", self._faces)\n",
    "        print(\"Seil:\\t\", self._seals)\n",
    "        print(\"Total:\\t\", self.participants)\n",
    "        print(\"Yes:\\t\", self.count_yes)\n",
    "        print(\"No:\\t\", self.count_no)\n",
    "        \n",
    "s1 = Survey()\n",
    "s1.run()\n",
    "s1.print_result()"
   ]
  },
  {
   "cell_type": "code",
   "execution_count": 30,
   "id": "traditional-stake",
   "metadata": {},
   "outputs": [
    {
     "name": "stdout",
     "output_type": "stream",
     "text": [
      "----Estimation----\n",
      "Yes:\t 33.24873096446701 %\n",
      "No:\t 66.75126903553299 %\n",
      "----Real----\n",
      "Yes:\t 33.41772151898734 %\n",
      "No:\t 66.58227848101265 %\n"
     ]
    }
   ],
   "source": [
    "def estimate(survey: Survey):\n",
    "    discard = survey.participants * 0.5\n",
    "    real_tot = discard\n",
    "    real_yes = survey.count_yes - discard\n",
    "    per_yes = real_yes/real_tot\n",
    "    per_no = survey.count_no/real_tot\n",
    "    \n",
    "    print(\"----Estimation----\")\n",
    "    print(\"Yes:\\t\", per_yes*100, \"%\")\n",
    "    print(\"No:\\t\", per_no*100, \"%\")\n",
    "\n",
    "estimate(s1)\n",
    "real_proportions()"
   ]
  }
 ],
 "metadata": {
  "kernelspec": {
   "display_name": "ThinkBayes2",
   "language": "python",
   "name": "thinkbayes2"
  },
  "language_info": {
   "codemirror_mode": {
    "name": "ipython",
    "version": 3
   },
   "file_extension": ".py",
   "mimetype": "text/x-python",
   "name": "python",
   "nbconvert_exporter": "python",
   "pygments_lexer": "ipython3",
   "version": "3.9.2"
  }
 },
 "nbformat": 4,
 "nbformat_minor": 5
}
